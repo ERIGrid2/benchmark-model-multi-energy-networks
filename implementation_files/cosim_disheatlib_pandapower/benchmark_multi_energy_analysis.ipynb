{
 "cells": [
  {
   "cell_type": "markdown",
   "id": "e99b659c-14e8-483e-a14f-a7ca8339ba1e",
   "metadata": {},
   "source": [
    "# Compare simulation results\n",
    "\n",
    "Import the analysis script."
   ]
  },
  {
   "cell_type": "code",
   "execution_count": null,
   "id": "c73d428f",
   "metadata": {},
   "outputs": [],
   "source": [
    "from benchmark_multi_energy_analysis import *"
   ]
  },
  {
   "cell_type": "markdown",
   "id": "45b9eb1f-86b6-4ade-badb-0660d72cb435",
   "metadata": {},
   "source": [
    "<span style=\"color:gray\">*NOTE*: After starting the individual simulators, it takes some time until the overall simulation settles into a consistent state. This is due to imperfect starting conditions of the individual simulators. Hence, the first 24 hours of simulation results are dropped by default. To change this behavior, uncomment and run the following line.</span>"
   ]
  },
  {
   "cell_type": "code",
   "execution_count": null,
   "id": "3aabf166-4c95-4576-be79-add8c975e125",
   "metadata": {},
   "outputs": [],
   "source": [
    "#DROP_FIRST_DAYS_DATA = False"
   ]
  },
  {
   "cell_type": "markdown",
   "id": "7271f4a4-f026-4722-9374-4a68fc6f923d",
   "metadata": {},
   "source": [
    "Produce comparison plots from two different simulation result files."
   ]
  },
  {
   "cell_type": "code",
   "execution_count": null,
   "id": "146e23b8-7826-4b50-911f-e126b41dbcdc",
   "metadata": {},
   "outputs": [],
   "source": [
    "compare_sim_results(\n",
    "    'benchmark_results_ctrl_enabled.h5',\n",
    "    'benchmark_results_ctrl_disabled.h5'\n",
    ")"
   ]
  }
 ],
 "metadata": {
  "kernelspec": {
   "display_name": "Python 3 (ipykernel)",
   "language": "python",
   "name": "python3"
  },
  "language_info": {
   "codemirror_mode": {
    "name": "ipython",
    "version": 3
   },
   "file_extension": ".py",
   "mimetype": "text/x-python",
   "name": "python",
   "nbconvert_exporter": "python",
   "pygments_lexer": "ipython3",
   "version": "3.8.5"
  }
 },
 "nbformat": 4,
 "nbformat_minor": 5
}
