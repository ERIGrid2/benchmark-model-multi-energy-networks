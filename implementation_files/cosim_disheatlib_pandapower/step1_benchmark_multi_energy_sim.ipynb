{
 "cells": [
  {
   "cell_type": "markdown",
   "id": "bf5683e3-2af5-4ef0-b17f-5fc76fa68fd7",
   "metadata": {},
   "source": [
    "# Multi-energy network benchmark simulation"
   ]
  },
  {
   "cell_type": "markdown",
   "id": "70612eb2",
   "metadata": {
    "tags": []
   },
   "source": [
    "## Simulation setup\n",
    "\n",
    "Define output file name (HDF5 file format)."
   ]
  },
  {
   "cell_type": "code",
   "execution_count": null,
   "id": "1bc5ce0c",
   "metadata": {},
   "outputs": [],
   "source": [
    "outfile_name = 'benchmark_results_ctrl_enabled.h5'\n",
    "#outfile_name = 'benchmark_results_ctrl_disabled.h5'"
   ]
  },
  {
   "cell_type": "markdown",
   "id": "b0d479a2",
   "metadata": {},
   "source": [
    "Turn voltage control on/off."
   ]
  },
  {
   "cell_type": "code",
   "execution_count": null,
   "id": "6fbe49b3",
   "metadata": {},
   "outputs": [],
   "source": [
    "voltage_control_enabled = True\n",
    "#voltage_control_enabled = False"
   ]
  },
  {
   "cell_type": "markdown",
   "id": "96f7de1f-8005-4c36-98d6-6539e81402b5",
   "metadata": {},
   "source": [
    "Specify simulation stop time (in seconds)."
   ]
  },
  {
   "cell_type": "code",
   "execution_count": null,
   "id": "9feed34b-c87f-48b5-bc30-dc7b5156a789",
   "metadata": {},
   "outputs": [],
   "source": [
    "stop_time = 2 * 24 * 60 * 60"
   ]
  },
  {
   "cell_type": "markdown",
   "id": "a43172df-97d8-4081-ba77-bf8587352e6d",
   "metadata": {},
   "source": [
    "Specify the simulation step size (in seconds)."
   ]
  },
  {
   "cell_type": "code",
   "execution_count": null,
   "id": "40097ec2-d4e7-43a9-b1b2-cc2745ea4e8c",
   "metadata": {},
   "outputs": [],
   "source": [
    "step_size = 60"
   ]
  },
  {
   "cell_type": "markdown",
   "id": "b7ac4a2e",
   "metadata": {},
   "source": [
    "Import simulation setup."
   ]
  },
  {
   "cell_type": "code",
   "execution_count": null,
   "id": "a511266f",
   "metadata": {},
   "outputs": [],
   "source": [
    "from benchmark_multi_energy_sim import *"
   ]
  },
  {
   "cell_type": "markdown",
   "id": "be4a6f04",
   "metadata": {},
   "source": [
    "## Simulation initialization\n",
    "\n",
    "Start MOSAIK orchestrator."
   ]
  },
  {
   "cell_type": "code",
   "execution_count": null,
   "id": "7c89d391",
   "metadata": {},
   "outputs": [],
   "source": [
    "import mosaik\n",
    "world = mosaik.World(SIM_CONFIG)"
   ]
  },
  {
   "cell_type": "markdown",
   "id": "9f0277da",
   "metadata": {},
   "source": [
    "Initialize and start all simulators."
   ]
  },
  {
   "cell_type": "code",
   "execution_count": null,
   "id": "e7659795",
   "metadata": {},
   "outputs": [],
   "source": [
    "simulators = initializeSimulators(world, step_size, outfile_name)"
   ]
  },
  {
   "cell_type": "markdown",
   "id": "8cb294a4",
   "metadata": {},
   "source": [
    "Load profiles for demand (heat, power) and PV generation."
   ]
  },
  {
   "cell_type": "code",
   "execution_count": null,
   "id": "9e4f1a5a",
   "metadata": {},
   "outputs": [],
   "source": [
    "profiles = loadProfiles()"
   ]
  },
  {
   "cell_type": "markdown",
   "id": "5d34ac5d",
   "metadata": {},
   "source": [
    "Create instances of simulators."
   ]
  },
  {
   "cell_type": "code",
   "execution_count": null,
   "id": "914bc31f",
   "metadata": {},
   "outputs": [],
   "source": [
    "entities = instantiateEntities(simulators, profiles, voltage_control_enabled)"
   ]
  },
  {
   "cell_type": "markdown",
   "id": "927cabad",
   "metadata": {},
   "source": [
    "Add connections between the simulator entities."
   ]
  },
  {
   "cell_type": "code",
   "execution_count": null,
   "id": "221b78a2",
   "metadata": {},
   "outputs": [],
   "source": [
    "connectEntities(world, entities)"
   ]
  },
  {
   "cell_type": "markdown",
   "id": "8cded789",
   "metadata": {},
   "source": [
    "Configure and connect the data collector."
   ]
  },
  {
   "cell_type": "code",
   "execution_count": null,
   "id": "31586acd",
   "metadata": {},
   "outputs": [],
   "source": [
    "connectDataCollector(world, entities)"
   ]
  },
  {
   "cell_type": "markdown",
   "id": "e778c549",
   "metadata": {},
   "source": [
    "## Run the simulation"
   ]
  },
  {
   "cell_type": "code",
   "execution_count": null,
   "id": "1a2026ba",
   "metadata": {},
   "outputs": [],
   "source": [
    "from time import time, ctime\n",
    "from datetime import timedelta\n",
    "\n",
    "sim_start_time = time()\n",
    "print(\"CO-SIMULATION STARTED AT:\", ctime(sim_start_time))\n",
    "\n",
    "world.run(until = stop_time)\n",
    "\n",
    "sim_elapsed_time = str(timedelta(seconds = time() - sim_start_time))\n",
    "print('TOTAL ELAPSED CO-SIMULATION TIME:', sim_elapsed_time)"
   ]
  }
 ],
 "metadata": {
  "kernelspec": {
   "display_name": "Python 3 (ipykernel)",
   "language": "python",
   "name": "python3"
  },
  "language_info": {
   "codemirror_mode": {
    "name": "ipython",
    "version": 3
   },
   "file_extension": ".py",
   "mimetype": "text/x-python",
   "name": "python",
   "nbconvert_exporter": "python",
   "pygments_lexer": "ipython3",
   "version": "3.9.1"
  }
 },
 "nbformat": 4,
 "nbformat_minor": 5
}
