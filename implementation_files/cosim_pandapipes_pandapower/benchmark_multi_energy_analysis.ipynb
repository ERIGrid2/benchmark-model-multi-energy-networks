{
 "cells": [
  {
   "cell_type": "markdown",
   "id": "e99b659c-14e8-483e-a14f-a7ca8339ba1e",
   "metadata": {
    "tags": []
   },
   "source": [
    "# Visualize the simulation results"
   ]
  },
  {
   "cell_type": "markdown",
   "id": "e3c9a462-a8d6-4f32-9f95-4a2df221d7a3",
   "metadata": {},
   "source": [
    "Import the analysis script."
   ]
  },
  {
   "cell_type": "code",
   "execution_count": null,
   "id": "c73d428f",
   "metadata": {},
   "outputs": [],
   "source": [
    "from benchmark_multi_energy_analysis import *"
   ]
  },
  {
   "cell_type": "markdown",
   "id": "9095a0a0-becd-4f87-a307-14b397d86851",
   "metadata": {},
   "source": [
    "Retrieve results for simulation with voltage control enabled.\n",
    "\n",
    "<span style=\"color:gray\">*NOTE*: After starting the individual simulators, it takes some time until the overall simulation settles into a consistent state. This is due to imperfect starting conditions of the individual simulators. Hence, the first 24 hours of simulation results are dropped by default. To change this behavior, set ``drop_first_day_data = False``.</span>"
   ]
  },
  {
   "cell_type": "code",
   "execution_count": null,
   "id": "95cff0bc-afb2-41b2-8464-a1efa9d04caa",
   "metadata": {},
   "outputs": [],
   "source": [
    "results_ctrl_enabled = retrieve_results(\n",
    "    'benchmark_results_ctrl_enabled.h5',\n",
    "    drop_first_day_data = True\n",
    ")\n",
    "\n",
    "results_ctrl_disabled = retrieve_results(\n",
    "    'benchmark_results_ctrl_disabled.h5',\n",
    "    drop_first_day_data = True\n",
    ")"
   ]
  },
  {
   "cell_type": "markdown",
   "id": "7271f4a4-f026-4722-9374-4a68fc6f923d",
   "metadata": {
    "tags": []
   },
   "source": [
    "## Results (voltage controller enabled)"
   ]
  },
  {
   "cell_type": "code",
   "execution_count": null,
   "id": "146e23b8-7826-4b50-911f-e126b41dbcdc",
   "metadata": {},
   "outputs": [],
   "source": [
    "plot_results_single_run( results_ctrl_enabled )"
   ]
  },
  {
   "cell_type": "markdown",
   "id": "af50ee16-3183-4d04-812d-825ababe725f",
   "metadata": {},
   "source": [
    "## Results  (vontage controller disabled)"
   ]
  },
  {
   "cell_type": "code",
   "execution_count": null,
   "id": "2bc906ad-dc57-480f-b662-5d8cfc73af17",
   "metadata": {},
   "outputs": [],
   "source": [
    "plot_results_single_run( results_ctrl_disabled )"
   ]
  },
  {
   "cell_type": "markdown",
   "id": "a5b4d5ed-7073-405f-986c-d03984ef0a2e",
   "metadata": {},
   "source": [
    "## Compare results"
   ]
  },
  {
   "cell_type": "markdown",
   "id": "9a497b0f-cfe9-442a-94e2-aa2d2bcbe1ee",
   "metadata": {},
   "source": [
    "Compare voltage levels for bus 1."
   ]
  },
  {
   "cell_type": "code",
   "execution_count": null,
   "id": "b6b19587-26ef-4366-a242-16e49649bd13",
   "metadata": {},
   "outputs": [],
   "source": [
    "bins_bus_voltage = [\n",
    "    round(0.75 + i*.01, 2) for i in range(46)\n",
    "]\n",
    "\n",
    "plot_results_compare(\n",
    "    'Bus_1_0', 'vm_pu', 'voltage in p.u.', bins_bus_voltage,\n",
    "    'ctrl enabled', results_ctrl_enabled,\n",
    "    'ctrl disabled', results_ctrl_disabled\n",
    ")"
   ]
  },
  {
   "cell_type": "markdown",
   "id": "e402301b-9d12-42f5-8843-674591c06806",
   "metadata": {},
   "source": [
    "Compare line loadings for line 1."
   ]
  },
  {
   "cell_type": "code",
   "execution_count": null,
   "id": "c1bc8f83-6c5d-411e-8da2-61fe9dd24bfd",
   "metadata": {},
   "outputs": [],
   "source": [
    "bins_line_loading = [\n",
    "    round(i*5, 2) for i in range(30)\n",
    "]\n",
    "\n",
    "plot_results_compare(\n",
    "    'LV_Line_0-1_0', 'loading_percent', 'line loading in %', bins_line_loading,\n",
    "    'ctrl enabled', results_ctrl_enabled,\n",
    "    'ctrl disabled', results_ctrl_disabled\n",
    ")"
   ]
  },
  {
   "cell_type": "markdown",
   "id": "c5b1ab54-2954-4a97-926d-c909f2f4a13c",
   "metadata": {},
   "source": [
    "Average tank temperature."
   ]
  },
  {
   "cell_type": "code",
   "execution_count": null,
   "id": "f28c1f34-8b78-4d3c-8488-99a3ff081db7",
   "metadata": {},
   "outputs": [],
   "source": [
    "bins_tank_temperature_avg = [\n",
    "    round(50 + i*.25, 2) for i in range(40)\n",
    "]\n",
    "\n",
    "plot_results_compare(\n",
    "    'StratifiedWaterStorageTank_0', 'T_avg', 'average temperature in °C', bins_tank_temperature_avg,\n",
    "    'ctrl enabled', results_ctrl_enabled,\n",
    "    'ctrl disabled', results_ctrl_disabled\n",
    ")"
   ]
  },
  {
   "cell_type": "markdown",
   "id": "3843592a-3485-4f87-805c-1f2df3924354",
   "metadata": {},
   "source": [
    "Compare power consumption of heat pump."
   ]
  },
  {
   "cell_type": "code",
   "execution_count": null,
   "id": "65af209d-e838-484e-8905-0cb07b636dd0",
   "metadata": {},
   "outputs": [],
   "source": [
    "bins_hp_power_consumptions = [\n",
    "    round(i*5000, 2) for i in range(22)\n",
    "]\n",
    "\n",
    "plot_results_compare(\n",
    "    'heatpump_0', 'P_effective', 'heat generation in W', bins_hp_power_consumptions,\n",
    "    'ctrl enabled', results_ctrl_enabled,\n",
    "    'ctrl disabled', results_ctrl_disabled\n",
    ")"
   ]
  }
 ],
 "metadata": {
  "kernelspec": {
   "display_name": "Python 3 (ipykernel)",
   "language": "python",
   "name": "python3"
  },
  "language_info": {
   "codemirror_mode": {
    "name": "ipython",
    "version": 3
   },
   "file_extension": ".py",
   "mimetype": "text/x-python",
   "name": "python",
   "nbconvert_exporter": "python",
   "pygments_lexer": "ipython3",
   "version": "3.8.5"
  }
 },
 "nbformat": 4,
 "nbformat_minor": 5
}
