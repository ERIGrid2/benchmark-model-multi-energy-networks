{
 "cells": [
  {
   "cell_type": "markdown",
   "metadata": {},
   "source": [
    "[![DOI](https://zenodo.org/badge/DOI/10.5281/zenodo.5735005.svg)](https://doi.org/10.5281/zenodo.5735005)\n",
    "\n",
    "# Benchmark Model Multi-Energy Networks\n",
    "\n",
    "This Binder repository contains the documentation and reference implementations of the multi-energy networks benchmark model developed in the [ERIGrid 2.0] project. \n",
    "\n",
    "The folder `implementation_files` includes two implementations of the benchmark in separate sub-folders. \n",
    "Use [JupyterLab's file browser](https://jupyterlab.readthedocs.io/en/stable/user/interface.html#left-and-right-sidebar) to access them. \n",
    "\n",
    "The folder `PreCISE_documentation` contains the description of the model according to the PreCISE framework. \n",
    "File `PreCISE_documentation/MENB_ToC.pdf` provides a brief description of each file. \n",
    "\n",
    "### Funding acknowledgement\n",
    "\n",
    "<img alt=\"European Flag\" src=\"https://erigrid2.eu/wp-content/uploads/2020/03/europa_flag_low.jpg\" align=\"left\" style=\"margin-right: 10px\"/> The development of [Benchmark Model Multi-Energy Networks] has been supported by the [ERIGrid 2.0] project of the H2020 Programme under [Grant Agreement No. 870620](https://cordis.europa.eu/project/id/870620)\n",
    "\n",
    "[ERIGrid 2.0]: https://erigrid2.eu\n",
    "[Benchmark Model Multi-Energy Networks]: https://github.com/ERIGrid2/benchmark-model-multi-energy-network"
   ]
  }
 ],
 "metadata": {
  "kernelspec": {
   "display_name": "Python 3 (ipykernel)",
   "language": "python",
   "name": "python3"
  },
  "language_info": {
   "codemirror_mode": {
    "name": "ipython",
    "version": 3
   },
   "file_extension": ".py",
   "mimetype": "text/x-python",
   "name": "python",
   "nbconvert_exporter": "python",
   "pygments_lexer": "ipython3",
   "version": "3.8.13"
  }
 },
 "nbformat": 4,
 "nbformat_minor": 5
}
