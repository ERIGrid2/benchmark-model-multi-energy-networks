{
 "cells": [
  {
   "cell_type": "markdown",
   "metadata": {},
   "source": [
    "[![DOI](https://zenodo.org/badge/DOI/10.5281/zenodo.5735005.svg)](https://doi.org/10.5281/zenodo.5735005)\n",
    "\n",
    "# Benchmark Model Multi-Energy Networks\n",
    "\n",
    "This Binder repository contains the documentation and reference implementations of the multi-energy networks benchmark model developed in the [ERIGrid 2.0] project. \n",
    "\n",
    "The folder `implementation_files` includes two implementations of the benchmark in separate sub-folders. \n",
    "\n",
    "The folder `PreCISE_documentation` contains the description of the model according to the PreCISE framework. \n",
    "File `PreCISE_documentation/MENB_ToC.pdf` provides a brief description of each file. \n",
    "\n",
    "### Funding acknowledgement\n",
    "\n",
    "<img alt=\"European Flag\" src=\"https://erigrid2.eu/wp-content/uploads/2020/03/europa_flag_low.jpg\" align=\"left\" style=\"margin-right: 10px\"/> The development of [Benchmark Model Multi-Energy Networks] has been supported by the [ERIGrid 2.0] project of the H2020 Programme under [Grant Agreement No. 870620](https://cordis.europa.eu/project/id/870620)\n",
    "\n",
    "[ERIGrid 2.0]: https://erigrid2.eu\n",
    "[Benchmark Model Multi-Energy Networks]: https://github.com/ERIGrid2/benchmark-model-multi-energy-network"
   ]
  }
 ],
 "metadata": {
  "kernelspec": {
   "display_name": "",
   "name": ""
  },
  "language_info": {
   "name": ""
  }
 },
 "nbformat": 4,
 "nbformat_minor": 5
}
